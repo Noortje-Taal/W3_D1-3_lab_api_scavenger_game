{
 "cells": [
  {
   "cell_type": "code",
   "execution_count": 1,
   "metadata": {},
   "outputs": [],
   "source": [
    "import json\n",
    "import requests\n",
    "import pandas as pd\n",
    "from pandas.io.json import json_normalize\n",
    "import os "
   ]
  },
  {
   "cell_type": "code",
   "execution_count": 2,
   "metadata": {},
   "outputs": [
    {
     "ename": "NameError",
     "evalue": "name 'github_token' is not defined",
     "output_type": "error",
     "traceback": [
      "\u001b[0;31m---------------------------------------------------------------------------\u001b[0m",
      "\u001b[0;31mNameError\u001b[0m                                 Traceback (most recent call last)",
      "\u001b[0;32m<ipython-input-2-bf3a13f639ec>\u001b[0m in \u001b[0;36m<module>\u001b[0;34m()\u001b[0m\n\u001b[1;32m      1\u001b[0m \u001b[0mgithubToken\u001b[0m \u001b[0;34m=\u001b[0m \u001b[0mos\u001b[0m\u001b[0;34m.\u001b[0m\u001b[0mgetenv\u001b[0m\u001b[0;34m(\u001b[0m\u001b[0;34m\"GITHUB_TOKEN\"\u001b[0m\u001b[0;34m)\u001b[0m\u001b[0;34m\u001b[0m\u001b[0m\n\u001b[0;32m----> 2\u001b[0;31m \u001b[0mprint\u001b[0m\u001b[0;34m(\u001b[0m\u001b[0;34m\"Loaded token {}\"\u001b[0m\u001b[0;34m.\u001b[0m\u001b[0mformat\u001b[0m\u001b[0;34m(\u001b[0m\u001b[0mgithub_token\u001b[0m\u001b[0;34m[\u001b[0m\u001b[0;34m:\u001b[0m\u001b[0;34m]\u001b[0m\u001b[0;34m)\u001b[0m\u001b[0;34m)\u001b[0m\u001b[0;34m\u001b[0m\u001b[0m\n\u001b[0m",
      "\u001b[0;31mNameError\u001b[0m: name 'github_token' is not defined"
     ]
    }
   ],
   "source": [
    "'''\n",
    "L.S. Correct!\n",
    "'''\n",
    "\n",
    "githubToken = os.getenv(\"GITHUB_TOKEN\")\n",
    "print(\"Loaded token {}\".format(github_token[:]))"
   ]
  },
  {
   "cell_type": "code",
   "execution_count": null,
   "metadata": {},
   "outputs": [],
   "source": [
    "'''\n",
    "L.S. Good! Beware though of the vars. highlighted in red.\n",
    "'''\n",
    "\n",
    "def getAuth(url, headers={\"Authorization\":\"token {}\".format(githubToken)}):\n",
    "   baseUrl = \"https://api.github.com{}\".format(url)\n",
    "   print(\"Asking {}\".format(baseUrl))\n",
    "   res = requests.get(baseUrl, headers=headers)\n",
    "   return res.json() \n",
    "\n",
    "#repo = “https://github.com/ironhack-datalabs/scavenger”"
   ]
  },
  {
   "cell_type": "code",
   "execution_count": 3,
   "metadata": {},
   "outputs": [
    {
     "ename": "NameError",
     "evalue": "name 'getAuth' is not defined",
     "output_type": "error",
     "traceback": [
      "\u001b[0;31m---------------------------------------------------------------------------\u001b[0m",
      "\u001b[0;31mNameError\u001b[0m                                 Traceback (most recent call last)",
      "\u001b[0;32m<ipython-input-3-5f7798665140>\u001b[0m in \u001b[0;36m<module>\u001b[0;34m()\u001b[0m\n\u001b[0;32m----> 1\u001b[0;31m \u001b[0mdata\u001b[0m \u001b[0;34m=\u001b[0m \u001b[0mgetAuth\u001b[0m\u001b[0;34m(\u001b[0m\u001b[0;34m\"/search/code?q=extension:.scavengerhunt repo:ironhack-datalabs/scavenger\"\u001b[0m\u001b[0;34m)\u001b[0m\u001b[0;34m\u001b[0m\u001b[0m\n\u001b[0m",
      "\u001b[0;31mNameError\u001b[0m: name 'getAuth' is not defined"
     ]
    }
   ],
   "source": [
    "data = getAuth(\"/search/code?q=extension:.scavengerhunt repo:ironhack-datalabs/scavenger\")"
   ]
  },
  {
   "cell_type": "code",
   "execution_count": 207,
   "metadata": {},
   "outputs": [
    {
     "name": "stdout",
     "output_type": "stream",
     "text": [
      "Asking https://api.github.com/repos/ironhack-labs/data-labs/forks\n",
      "?page=2\n",
      "Asking https://api.github.com/repos/ironhack-labs/data-labs/forks?page=2\n",
      "?page=3\n",
      "Asking https://api.github.com/repos/ironhack-labs/data-labs/forks?page=3\n",
      "?page=4\n",
      "Asking https://api.github.com/repos/ironhack-labs/data-labs/forks?page=4\n",
      "?page=5\n",
      "Asking https://api.github.com/repos/ironhack-labs/data-labs/forks?page=5\n"
     ]
    },
    {
     "data": {
      "text/plain": [
       "['HTML', 'Jupyter Notebook']"
      ]
     },
     "execution_count": 207,
     "metadata": {},
     "output_type": "execute_result"
    }
   ],
   "source": [
    "# challenge 1\n",
    "'''\n",
    "L.S. Good!\n",
    "'''\n",
    "\n",
    "lst_pages = []\n",
    "i = 2 # omdat je begint met page=1 wanneer je niks achter de url zet \n",
    "data = getAuth('/repos/ironhack-labs/data-labs/forks')\n",
    "\n",
    "lst_pages.append(data)\n",
    "\n",
    "while len(data) > 0: # 0 omdat wanneer dit 0 is, zijn er geen pages meer (dan houdt de data op soort van)\n",
    "    page_nr = '?page='+str(i)\n",
    "    data = getAuth('/repos/ironhack-labs/data-labs/forks{}'.format(page_nr))\n",
    "    lst_pages.append(data)\n",
    "    i += 1 \n",
    "    \n",
    "lst_pages_2 = [y for x in lst_pages for y in x] # to get a level deeper within the lst_pages\n",
    "\n",
    "language = []\n",
    "for dic in lst_pages_2:\n",
    "    if dic['language'] != None: # none uit de languages filteren \n",
    "        language.append(dic['language'])\n",
    "\n",
    "list(set(language))"
   ]
  },
  {
   "cell_type": "code",
   "execution_count": 205,
   "metadata": {},
   "outputs": [
    {
     "name": "stdout",
     "output_type": "stream",
     "text": [
      "Asking https://api.github.com/repos/ironhack-labs/data-labs/commits?since=2019-10-09T16:00:00Z\n"
     ]
    },
    {
     "data": {
      "text/plain": [
       "0"
      ]
     },
     "execution_count": 205,
     "metadata": {},
     "output_type": "execute_result"
    }
   ],
   "source": [
    "# challenge 2\n",
    "'''\n",
    "L.S. Well done!\n",
    "'''\n",
    "\n",
    "lst_pages = []\n",
    "data = getAuth(\"/repos/ironhack-labs/data-labs/commits?since=2019-10-09T16:00:00Z\")\n",
    "i = 2\n",
    "\n",
    "lst_pages.append(data) \n",
    "\n",
    "while len(data) > 0:\n",
    "    page_nr = '?page='+str(i)\n",
    "    data = getAuth('/repos/ironhack-labs/data-labs/commits?since=2019-10-09T16:00:00Z{}'.format(page_nr))\n",
    "    lst_pages.append(data)\n",
    "    i += 1 \n",
    "\n",
    "lst_pages_2 = [y for x in lst_pages for y in x] # to get a level deeper within the lst_pages\n",
    "len(lst_pages_2)\n",
    "\n",
    "# the list is empty, there where no commits last week \n",
    "# we checked printing out random dates if the code is working, and it is, for example 2019-09-25 \n",
    "# after 2019-09-25 there are no commits "
   ]
  },
  {
   "cell_type": "code",
   "execution_count": 325,
   "metadata": {},
   "outputs": [
    {
     "name": "stdout",
     "output_type": "stream",
     "text": [
      "Asking https://api.github.com/search/code?q=extension:.scavengerhunt repo:ironhack-datalabs/scavenger\n"
     ]
    }
   ],
   "source": [
    "# challenge 3\n",
    "data = getAuth(\"/search/code?q=extension:.scavengerhunt repo:ironhack-datalabs/scavenger\")\n",
    "data_1 = data.get(\"items\")"
   ]
  },
  {
   "cell_type": "code",
   "execution_count": 323,
   "metadata": {},
   "outputs": [],
   "source": [
    "path_list = []\n",
    "\n",
    "for dic in data_1:\n",
    "    path_list.append(dic['name'] + '|' + dic['path']) \n",
    "path_list.sort()"
   ]
  },
  {
   "cell_type": "code",
   "execution_count": 326,
   "metadata": {},
   "outputs": [],
   "source": [
    "def reference(string):\n",
    "    return string.rsplit('|')[1] \n",
    "\n",
    "map_list = list(map(reference, path_list))"
   ]
  },
  {
   "cell_type": "code",
   "execution_count": 320,
   "metadata": {},
   "outputs": [
    {
     "name": "stdout",
     "output_type": "stream",
     "text": [
      "Asking https://api.github.com/repos/ironhack-datalabs/scavenger/contents98750/.0001.scavengerhunt\n",
      "Asking https://api.github.com/repos/ironhack-datalabs/scavenger/contents88596/.0002.scavengerhunt\n",
      "Asking https://api.github.com/repos/ironhack-datalabs/scavenger/contents60224/.0003.scavengerhunt\n",
      "Asking https://api.github.com/repos/ironhack-datalabs/scavenger/contents68848/.0004.scavengerhunt\n",
      "Asking https://api.github.com/repos/ironhack-datalabs/scavenger/contents44639/.0005.scavengerhunt\n",
      "Asking https://api.github.com/repos/ironhack-datalabs/scavenger/contents15024/.0006.scavengerhunt\n",
      "Asking https://api.github.com/repos/ironhack-datalabs/scavenger/contents17020/.0007.scavengerhunt\n",
      "Asking https://api.github.com/repos/ironhack-datalabs/scavenger/contents15534/.0008.scavengerhunt\n",
      "Asking https://api.github.com/repos/ironhack-datalabs/scavenger/contents97881/.0009.scavengerhunt\n",
      "Asking https://api.github.com/repos/ironhack-datalabs/scavenger/contents47830/.0010.scavengerhunt\n",
      "Asking https://api.github.com/repos/ironhack-datalabs/scavenger/contents50896/.0011.scavengerhunt\n",
      "Asking https://api.github.com/repos/ironhack-datalabs/scavenger/contents15534/.0012.scavengerhunt\n",
      "Asking https://api.github.com/repos/ironhack-datalabs/scavenger/contents89338/.0013.scavengerhunt\n",
      "Asking https://api.github.com/repos/ironhack-datalabs/scavenger/contents49418/.0014.scavengerhunt\n",
      "Asking https://api.github.com/repos/ironhack-datalabs/scavenger/contents91701/.0015.scavengerhunt\n",
      "Asking https://api.github.com/repos/ironhack-datalabs/scavenger/contents47222/.0016.scavengerhunt\n",
      "Asking https://api.github.com/repos/ironhack-datalabs/scavenger/contents70985/.0017.scavengerhunt\n",
      "Asking https://api.github.com/repos/ironhack-datalabs/scavenger/contents45525/.0018.scavengerhunt\n",
      "Asking https://api.github.com/repos/ironhack-datalabs/scavenger/contents70751/.0019.scavengerhunt\n",
      "Asking https://api.github.com/repos/ironhack-datalabs/scavenger/contents55685/.0020.scavengerhunt\n",
      "Asking https://api.github.com/repos/ironhack-datalabs/scavenger/contents30351/.0021.scavengerhunt\n",
      "Asking https://api.github.com/repos/ironhack-datalabs/scavenger/contents40303/.0022.scavengerhunt\n",
      "Asking https://api.github.com/repos/ironhack-datalabs/scavenger/contents55417/.0023.scavengerhunt\n",
      "Asking https://api.github.com/repos/ironhack-datalabs/scavenger/contents47222/.0024.scavengerhunt\n"
     ]
    }
   ],
   "source": [
    "'''\n",
    "L.S. Well done!\n",
    "'''\n",
    "\n",
    "url_list = []\n",
    "\n",
    "for element in map_list:\n",
    "    url = getAuth('/repos/ironhack-datalabs/scavenger/contents{}'.format(element))\n",
    "    url_list.append(url)"
   ]
  },
  {
   "cell_type": "code",
   "execution_count": 4,
   "metadata": {},
   "outputs": [
    {
     "ename": "NameError",
     "evalue": "name 'url_list' is not defined",
     "output_type": "error",
     "traceback": [
      "\u001b[0;31m---------------------------------------------------------------------------\u001b[0m",
      "\u001b[0;31mNameError\u001b[0m                                 Traceback (most recent call last)",
      "\u001b[0;32m<ipython-input-4-b7abb5373655>\u001b[0m in \u001b[0;36m<module>\u001b[0;34m()\u001b[0m\n\u001b[1;32m      5\u001b[0m '''\n\u001b[1;32m      6\u001b[0m \u001b[0;34m\u001b[0m\u001b[0m\n\u001b[0;32m----> 7\u001b[0;31m \u001b[0;32mfor\u001b[0m \u001b[0mdic\u001b[0m \u001b[0;32min\u001b[0m \u001b[0murl_list\u001b[0m\u001b[0;34m:\u001b[0m\u001b[0;34m\u001b[0m\u001b[0m\n\u001b[0m\u001b[1;32m      8\u001b[0m     \u001b[0mcontent\u001b[0m\u001b[0;34m.\u001b[0m\u001b[0mappend\u001b[0m\u001b[0;34m(\u001b[0m\u001b[0mdic\u001b[0m\u001b[0;34m[\u001b[0m\u001b[0;34m'content'\u001b[0m\u001b[0;34m]\u001b[0m\u001b[0;34m)\u001b[0m\u001b[0;34m\u001b[0m\u001b[0m\n\u001b[1;32m      9\u001b[0m \u001b[0mcontent\u001b[0m\u001b[0;34m\u001b[0m\u001b[0m\n",
      "\u001b[0;31mNameError\u001b[0m: name 'url_list' is not defined"
     ]
    }
   ],
   "source": [
    "content = []\n",
    "\n",
    "'''\n",
    "L.S. Good!\n",
    "'''\n",
    "\n",
    "for dic in url_list:\n",
    "    content.append(dic['content'])\n",
    "content"
   ]
  },
  {
   "cell_type": "code",
   "execution_count": 319,
   "metadata": {},
   "outputs": [
    {
     "data": {
      "text/plain": [
       "[b'In\\n',\n",
       " b'data\\n',\n",
       " b'science,\\n',\n",
       " b'80\\n',\n",
       " b'percent\\n',\n",
       " b'of\\n',\n",
       " b'time\\n',\n",
       " b'spent\\n',\n",
       " b'is\\n',\n",
       " b'preparing\\n',\n",
       " b'data,\\n',\n",
       " b'20\\n',\n",
       " b'percent\\n',\n",
       " b'of\\n',\n",
       " b'time\\n',\n",
       " b'is\\n',\n",
       " b'spent\\n',\n",
       " b'complaining\\n',\n",
       " b'about\\n',\n",
       " b'the\\n',\n",
       " b'need\\n',\n",
       " b'to\\n',\n",
       " b'prepare\\n',\n",
       " b'data.\\n']"
      ]
     },
     "execution_count": 319,
     "metadata": {},
     "output_type": "execute_result"
    }
   ],
   "source": [
    "import base64\n",
    "text_list = []\n",
    "\n",
    "'''\n",
    "L.S. Correct!\n",
    "'''\n",
    "\n",
    "for element in content:\n",
    "    text = base64.b64decode(element)\n",
    "    text_list.append(text)\n",
    "text_list"
   ]
  },
  {
   "cell_type": "code",
   "execution_count": null,
   "metadata": {},
   "outputs": [],
   "source": []
  }
 ],
 "metadata": {
  "kernelspec": {
   "display_name": "Python 3",
   "language": "python",
   "name": "python3"
  }
 },
 "nbformat": 4,
 "nbformat_minor": 2
}
